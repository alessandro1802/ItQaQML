{
 "cells": [
  {
   "metadata": {},
   "cell_type": "markdown",
   "source": [
    "# E91 Protocol\n",
    "Oleksandr Yasinskyi 150570"
   ],
   "id": "46ac9146a28b557c"
  },
  {
   "cell_type": "code",
   "id": "initial_id",
   "metadata": {
    "collapsed": true,
    "ExecuteTime": {
     "end_time": "2024-12-03T12:35:17.234710Z",
     "start_time": "2024-12-03T12:35:17.230990Z"
    }
   },
   "source": [
    "from qiskit import QuantumRegister, ClassicalRegister, QuantumCircuit, execute, Aer\n",
    "\n",
    "import math\n",
    "import random"
   ],
   "outputs": [],
   "execution_count": 20
  },
  {
   "metadata": {
    "ExecuteTime": {
     "end_time": "2024-12-03T12:35:17.241860Z",
     "start_time": "2024-12-03T12:35:17.239410Z"
    }
   },
   "cell_type": "code",
   "source": "backend = Aer.get_backend('qasm_simulator')",
   "id": "86e24babc40fc36b",
   "outputs": [],
   "execution_count": 21
  },
  {
   "metadata": {
    "ExecuteTime": {
     "end_time": "2024-12-03T12:35:17.306926Z",
     "start_time": "2024-12-03T12:35:17.257472Z"
    }
   },
   "cell_type": "code",
   "source": [
    "n0 = 2  # Number of qubits and bits\n",
    "q0 = QuantumRegister(n0)  # Quantum register\n",
    "c0 = ClassicalRegister(n0)  # Classical register\n",
    "\n",
    "circuit0 = QuantumCircuit(q0, c0)\n",
    "circuit0.reset([q0[0], q0[1]])\n",
    "\n",
    "circuit0.x(q0[0])\n",
    "circuit0.x(q0[1])\n",
    "circuit0.h(q0[0])\n",
    "circuit0.cx(q0[0], q0[1])\n",
    "circuit0.barrier()\n",
    "# Sketch of a quantum circuit\n",
    "circuit0.draw(output='mpl', style=\"iqp\")"
   ],
   "id": "a9006af4fa32ee0d",
   "outputs": [
    {
     "data": {
      "text/plain": [
       "<Figure size 611.656x284.278 with 1 Axes>"
      ],
      "image/png": "[encoded data removed]"
     },
     "execution_count": 22,
     "metadata": {},
     "output_type": "execute_result"
    }
   ],
   "execution_count": 22
  },
  {
   "metadata": {},
   "cell_type": "markdown",
   "source": "# Measurement circuits",
   "id": "1dc81a6c62f727df"
  },
  {
   "metadata": {},
   "cell_type": "markdown",
   "source": "## Alice",
   "id": "a50b33b6ebd2e484"
  },
  {
   "metadata": {},
   "cell_type": "markdown",
   "source": "### X basis",
   "id": "8320d4699708a414"
  },
  {
   "metadata": {
    "ExecuteTime": {
     "end_time": "2024-12-03T12:35:17.321768Z",
     "start_time": "2024-12-03T12:35:17.318332Z"
    }
   },
   "cell_type": "code",
   "source": [
    "measureA1 = QuantumCircuit(q0, c0)\n",
    "\n",
    "measureA1.h(q0[0])\n",
    "\n",
    "measureA1.measure(q0[0], c0[0])"
   ],
   "id": "379800e0579f3277",
   "outputs": [
    {
     "data": {
      "text/plain": [
       "<qiskit.circuit.instructionset.InstructionSet at 0x11e2bc040>"
      ]
     },
     "execution_count": 23,
     "metadata": {},
     "output_type": "execute_result"
    }
   ],
   "execution_count": 23
  },
  {
   "metadata": {},
   "cell_type": "markdown",
   "source": "### W basis",
   "id": "7097f87336e60377"
  },
  {
   "metadata": {
    "ExecuteTime": {
     "end_time": "2024-12-03T12:35:17.335645Z",
     "start_time": "2024-12-03T12:35:17.332772Z"
    }
   },
   "cell_type": "code",
   "source": [
    "measureA2 = QuantumCircuit(q0, c0)\n",
    "\n",
    "measureA2.s(q0[0])\n",
    "measureA2.h(q0[0])\n",
    "measureA2.t(q0[0])\n",
    "measureA2.h(q0[0])\n",
    "\n",
    "measureA2.measure(q0[0], c0[0])"
   ],
   "id": "d578bff4db1dc676",
   "outputs": [
    {
     "data": {
      "text/plain": [
       "<qiskit.circuit.instructionset.InstructionSet at 0x11e1acca0>"
      ]
     },
     "execution_count": 24,
     "metadata": {},
     "output_type": "execute_result"
    }
   ],
   "execution_count": 24
  },
  {
   "metadata": {},
   "cell_type": "markdown",
   "source": "### Standard Z basis",
   "id": "ed5aee54059522b6"
  },
  {
   "metadata": {
    "ExecuteTime": {
     "end_time": "2024-12-03T12:35:17.350135Z",
     "start_time": "2024-12-03T12:35:17.347873Z"
    }
   },
   "cell_type": "code",
   "source": [
    "measureA3 = QuantumCircuit(q0, c0)\n",
    "\n",
    "measureA3.measure(q0[0], c0[0])"
   ],
   "id": "ee5c9ca70f29e05a",
   "outputs": [
    {
     "data": {
      "text/plain": [
       "<qiskit.circuit.instructionset.InstructionSet at 0x11e1df970>"
      ]
     },
     "execution_count": 25,
     "metadata": {},
     "output_type": "execute_result"
    }
   ],
   "execution_count": 25
  },
  {
   "metadata": {},
   "cell_type": "markdown",
   "source": "## Bob",
   "id": "1ec3b4d4c631a40e"
  },
  {
   "metadata": {},
   "cell_type": "markdown",
   "source": "### W basis",
   "id": "4b934772197d8e0"
  },
  {
   "metadata": {
    "ExecuteTime": {
     "end_time": "2024-12-03T12:35:17.364370Z",
     "start_time": "2024-12-03T12:35:17.361262Z"
    }
   },
   "cell_type": "code",
   "source": [
    "measureB1 = QuantumCircuit(q0, c0)\n",
    "\n",
    "measureB1.s(q0[1])\n",
    "measureB1.h(q0[1])\n",
    "measureB1.t(q0[1])\n",
    "measureB1.h(q0[1])\n",
    "\n",
    "measureB1.measure(q0[1], c0[1])"
   ],
   "id": "10fd73b2f2e176dd",
   "outputs": [
    {
     "data": {
      "text/plain": [
       "<qiskit.circuit.instructionset.InstructionSet at 0x11e1df1f0>"
      ]
     },
     "execution_count": 26,
     "metadata": {},
     "output_type": "execute_result"
    }
   ],
   "execution_count": 26
  },
  {
   "metadata": {},
   "cell_type": "markdown",
   "source": "### Z basis",
   "id": "c1e5fab2e989e57"
  },
  {
   "metadata": {
    "ExecuteTime": {
     "end_time": "2024-12-03T12:35:17.378890Z",
     "start_time": "2024-12-03T12:35:17.376495Z"
    }
   },
   "cell_type": "code",
   "source": [
    "measureB2 = QuantumCircuit(q0, c0)\n",
    "\n",
    "measureB2.measure(q0[1], c0[1])"
   ],
   "id": "324d801ac7194aa2",
   "outputs": [
    {
     "data": {
      "text/plain": [
       "<qiskit.circuit.instructionset.InstructionSet at 0x11dd416f0>"
      ]
     },
     "execution_count": 27,
     "metadata": {},
     "output_type": "execute_result"
    }
   ],
   "execution_count": 27
  },
  {
   "metadata": {},
   "cell_type": "markdown",
   "source": "### V basis",
   "id": "307e083adf1b963b"
  },
  {
   "metadata": {
    "ExecuteTime": {
     "end_time": "2024-12-03T12:35:17.397290Z",
     "start_time": "2024-12-03T12:35:17.394037Z"
    }
   },
   "cell_type": "code",
   "source": [
    "measureB3 = QuantumCircuit(q0, c0)\n",
    "\n",
    "measureB3.s(q0[1])\n",
    "measureB3.h(q0[1])\n",
    "measureB3.tdg(q0[1])\n",
    "measureB3.h(q0[1])\n",
    "\n",
    "measureB3.measure(q0[1], c0[1])"
   ],
   "id": "2016e0331312701c",
   "outputs": [
    {
     "data": {
      "text/plain": [
       "<qiskit.circuit.instructionset.InstructionSet at 0x11e1dc5e0>"
      ]
     },
     "execution_count": 28,
     "metadata": {},
     "output_type": "execute_result"
    }
   ],
   "execution_count": 28
  },
  {
   "metadata": {},
   "cell_type": "markdown",
   "source": "# Measurements",
   "id": "230cf328faf50e91"
  },
  {
   "metadata": {
    "ExecuteTime": {
     "end_time": "2024-12-03T12:35:17.413141Z",
     "start_time": "2024-12-03T12:35:17.411005Z"
    }
   },
   "cell_type": "code",
   "source": [
    "aliceMeasurements = [measureA1, measureA2, measureA3]\n",
    "bobMeasurements = [measureB1, measureB2, measureB3]"
   ],
   "id": "7014b88ae9c69f32",
   "outputs": [],
   "execution_count": 29
  },
  {
   "metadata": {
    "ExecuteTime": {
     "end_time": "2024-12-03T12:35:17.425247Z",
     "start_time": "2024-12-03T12:35:17.422767Z"
    }
   },
   "cell_type": "code",
   "source": [
    "n = 1024\n",
    "\n",
    "alice = [random.randint(1, 3) for i in range(n)]\n",
    "bob = [random.randint(1, 3) for i in range(n)]"
   ],
   "id": "73d8c522243f6d8a",
   "outputs": [],
   "execution_count": 30
  },
  {
   "metadata": {
    "ExecuteTime": {
     "end_time": "2024-12-03T12:35:17.436856Z",
     "start_time": "2024-12-03T12:35:17.434698Z"
    }
   },
   "cell_type": "code",
   "source": [
    "measurement_type = dict()\n",
    "for i in [1, 3]:\n",
    "    for j in [1, 3]:\n",
    "        measurement_type[(i, j)] = dict()\n",
    "        measurement_type[(i, j)][(1, 1)] = 0\n",
    "        measurement_type[(i, j)][(1, -1)] = 0\n",
    "        measurement_type[(i, j)][(-1, 1)] = 0\n",
    "        measurement_type[(i, j)][(-1, -1)] = 0"
   ],
   "id": "437c7cfd7d4e232",
   "outputs": [],
   "execution_count": 31
  },
  {
   "metadata": {
    "ExecuteTime": {
     "end_time": "2024-12-03T12:35:21.083018Z",
     "start_time": "2024-12-03T12:35:17.447019Z"
    }
   },
   "cell_type": "code",
   "source": [
    "bit = []\n",
    "for a, b in zip(alice, bob):\n",
    "    c = circuit0.compose(aliceMeasurements[a - 1])\n",
    "    c = c.compose(bobMeasurements[b - 1])\n",
    "\n",
    "    job_sim0 = execute(c, backend, shots=1)\n",
    "    sim_result0 = job_sim0.result()\n",
    "    result = sim_result0.get_counts(circuit0)\n",
    "\n",
    "    yA = int(list(result.keys())[0][0])\n",
    "    yB = int(list(result.keys())[0][1])\n",
    "    bit.append([yA,yB])"
   ],
   "id": "281baa2153f8d246",
   "outputs": [],
   "execution_count": 32
  },
  {
   "metadata": {
    "ExecuteTime": {
     "end_time": "2024-12-03T12:35:21.095493Z",
     "start_time": "2024-12-03T12:35:21.092706Z"
    }
   },
   "cell_type": "code",
   "source": [
    "aliceResults = []\n",
    "bobResults = []\n",
    "for i, (a, b) in enumerate(bit):\n",
    "    if a == 0 and b == 0:\n",
    "        aliceResults.append(-1)\n",
    "        bobResults.append(-1)\n",
    "    if a == 1 and b == 0:\n",
    "        aliceResults.append(1)\n",
    "        bobResults.append(-1)\n",
    "    if a == 0 and b == 1:\n",
    "        aliceResults.append(-1)\n",
    "        bobResults.append(1)\n",
    "    if a == 1 and b == 1:\n",
    "        aliceResults.append(1)\n",
    "        bobResults.append(1)\n",
    "    if alice[i] != 2 and bob[i] != 2:\n",
    "        measurement_type[(alice[i], bob[i])][(aliceResults[-1], bobResults[-1])] += 1"
   ],
   "id": "76e6e5e8d341e1a2",
   "outputs": [],
   "execution_count": 33
  },
  {
   "metadata": {
    "ExecuteTime": {
     "end_time": "2024-12-03T12:35:21.106216Z",
     "start_time": "2024-12-03T12:35:21.104555Z"
    }
   },
   "cell_type": "code",
   "source": [
    "aliceKey = []\n",
    "bobKey = []\n",
    "for i in range(n):\n",
    "    if alice[i] == 2 and bob[i] == 1 or alice[i] == 3 and bob[i] == 2:\n",
    "        aliceKey.append(aliceResults[i])\n",
    "        bobKey.append(-bobResults[i])"
   ],
   "id": "81e39eff703b97ee",
   "outputs": [],
   "execution_count": 34
  },
  {
   "metadata": {},
   "cell_type": "markdown",
   "source": "# Keys",
   "id": "58b5be9c867a11cf"
  },
  {
   "metadata": {},
   "cell_type": "markdown",
   "source": "## Alice",
   "id": "2d7ce030f7964241"
  },
  {
   "metadata": {
    "ExecuteTime": {
     "end_time": "2024-12-03T12:35:21.118671Z",
     "start_time": "2024-12-03T12:35:21.116045Z"
    }
   },
   "cell_type": "code",
   "source": "''.join(['a' if i==1 else 'b' for i in aliceKey])",
   "id": "76cd8ebdec861047",
   "outputs": [
    {
     "data": {
      "text/plain": [
       "'aaaabaabbaaabbaabaababbbaabbabbbbababbbbaabbbbbbbbbabbbababbbabbabbbabbbbababababababbaabbaabbbbbbbaaabababababaaaabbaabbabbbababaaaabaabbababababbbaaabbababbaabababaabbaaabaabaabbbbabbababaaabbabbabbbbaaabaaabaababbbbb'"
      ]
     },
     "execution_count": 35,
     "metadata": {},
     "output_type": "execute_result"
    }
   ],
   "execution_count": 35
  },
  {
   "metadata": {},
   "cell_type": "markdown",
   "source": "## Bob",
   "id": "770c7e173e1b43c2"
  },
  {
   "metadata": {
    "ExecuteTime": {
     "end_time": "2024-12-03T12:35:21.139623Z",
     "start_time": "2024-12-03T12:35:21.137617Z"
    }
   },
   "cell_type": "code",
   "source": "''.join(['a' if i==1 else 'b' for i in bobKey])",
   "id": "e402a46e0e4f63ca",
   "outputs": [
    {
     "data": {
      "text/plain": [
       "'aaaabaabbaaabbaabaababbbaabbabbbbababbbbaabbbbbbbbbabbbababbbabbabbbabbbbababababababbaabbaabbbbbbbaaabababababaaaabbaabbabbbababaaaabaabbababababbbaaabbababbaabababaabbaaabaabaabbbbabbababaaabbabbabbbbaaabaaabaababbbbb'"
      ]
     },
     "execution_count": 36,
     "metadata": {},
     "output_type": "execute_result"
    }
   ],
   "execution_count": 36
  },
  {
   "metadata": {},
   "cell_type": "markdown",
   "source": "## Mismatches",
   "id": "b9d9416a3c4871ac"
  },
  {
   "metadata": {
    "ExecuteTime": {
     "end_time": "2024-12-03T12:35:21.212097Z",
     "start_time": "2024-12-03T12:35:21.210154Z"
    }
   },
   "cell_type": "code",
   "source": "print(\"Number of mismatches:\", sum([1 if aliceKey[j] != bobKey[j] else 0 for j in range(len(aliceKey))]))",
   "id": "28f22dc8981b074",
   "outputs": [
    {
     "name": "stdout",
     "output_type": "stream",
     "text": [
      "Number of mismatches: 0\n"
     ]
    }
   ],
   "execution_count": 37
  },
  {
   "metadata": {},
   "cell_type": "markdown",
   "source": "# CHSH test",
   "id": "f40bd4b9679e545f"
  },
  {
   "metadata": {
    "ExecuteTime": {
     "end_time": "2024-12-03T12:41:16.647434Z",
     "start_time": "2024-12-03T12:41:16.630194Z"
    }
   },
   "cell_type": "code",
   "source": [
    "print('{0:16s} | {1:4s} | {2:12s} | {3:12s} | {4:12s} | {5:12s} | {6:25s}'.format(\"Measurement type\",\n",
    "                                                                                  \"N_jk\",\n",
    "                                                                                  f\"n_jk{(1, 1)}\",\n",
    "                                                                                  f\"n_jk{(-1, 1)}\",\n",
    "                                                                                  f\"n_jk{(1, -1)}\",\n",
    "                                                                                  f\"n_jk{(-1, -1)}\",\n",
    "                                                                                  \"Sum[p_jk(a, a') * (a * a')]\"))\n",
    "result = 0\n",
    "for k, v in measurement_type.items():\n",
    "    vv = (\n",
    "            v[(1, 1)] / (v[(1, 1)] + v[(-1, 1)] + v[(1, -1)] + v[(-1, -1)]) -\n",
    "            v[(1,-1)] / (v[(1,1)] + v[(-1,1)] + v[(1,-1)] + v[(-1,-1)]) -\n",
    "            v[(-1,1)] / (v[(1,1)] + v[(-1,1)] + v[(1, -1)] + v[(-1,-1)]) +\n",
    "            v[(-1,-1)] / (v[(1,1)] + v[(-1,1)] + v[(1,-1)] + v[(-1,-1)])\n",
    "    )\n",
    "    if k == (1,3):\n",
    "        result -= vv\n",
    "    else:\n",
    "        result += vv\n",
    "    print('{0:16s} | {1:4s} | {2:12s} | {3:12s} | {4:12s} | {5:12s} | {6:15.2f}'.format(f\"a{k[0]}, b{k[1]}\",\n",
    "                                                                                        str(v[(1, 1)] + v[(-1, 1)] + v[(1, -1)] + v[(-1, -1)]),\n",
    "                                                                                        f\"{v[(1, 1)]}\",\n",
    "                                                                                        f\"{v[(-1, 1)]}\",\n",
    "                                                                                        f\"{v[(1, -1)]}\",\n",
    "                                                                                        f\"{v[(-1, -1)]}\",\n",
    "                                                                                        vv))\n",
    "print(f\"CHSH correlation value: {result}\")\n",
    "print(f\"CHSH correlation value assumption difference -2 * sqrt(2): {abs(result - (-2 * math.sqrt(2)))}\")"
   ],
   "id": "dcb48a717f3f438",
   "outputs": [
    {
     "name": "stdout",
     "output_type": "stream",
     "text": [
      "Measurement type | N_jk | n_jk(1, 1)   | n_jk(-1, 1)  | n_jk(1, -1)  | n_jk(-1, -1) | Sum[p_jk(a, a') * (a * a')]\n",
      "a1, b1           | 122  | 8            | 51           | 54           | 9            |           -0.72\n",
      "a1, b3           | 144  | 68           | 12           | 10           | 54           |            0.69\n",
      "a3, b1           | 100  | 6            | 38           | 49           | 7            |           -0.74\n",
      "a3, b3           | 114  | 6            | 53           | 49           | 6            |           -0.79\n",
      "CHSH correlation value: -2.9452296040648074\n",
      "CHSH correlation value assumption difference -2 * sqrt(2): 0.11680247931861709\n"
     ]
    }
   ],
   "execution_count": 39
  }
 ],
 "metadata": {
  "kernelspec": {
   "display_name": "Python 3",
   "language": "python",
   "name": "python3"
  },
  "language_info": {
   "codemirror_mode": {
    "name": "ipython",
    "version": 2
   },
   "file_extension": ".py",
   "mimetype": "text/x-python",
   "name": "python",
   "nbconvert_exporter": "python",
   "pygments_lexer": "ipython2",
   "version": "2.7.6"
  }
 },
 "nbformat": 4,
 "nbformat_minor": 5
}
